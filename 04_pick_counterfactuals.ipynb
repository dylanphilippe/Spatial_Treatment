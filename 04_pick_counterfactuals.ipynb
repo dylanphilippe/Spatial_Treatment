{
 "cells": [
  {
   "cell_type": "markdown",
   "id": "9e50610e",
   "metadata": {},
   "source": [
    "# 04: Pick Counterfactuals\n",
    "\n",
    "## Constants\n",
    "\n",
    "Define setting-specific constants, which are used for propensity score estimation here.\n",
    "In principle, one could use different values here for propensity score estimation than for later estimation, but this is not advised because it may result in poor balance.\n",
    "\n",
    "* `d_bin_size`: How wide should each distance bin be (in miles)?\n",
    "* `d_bin_max`: What is the largest distance at which treatments matter (in miles)?"
   ]
  },
  {
   "cell_type": "code",
   "execution_count": 1,
   "id": "d312fff3",
   "metadata": {
    "lines_to_next_cell": 2,
    "name": "define-constants"
   },
   "outputs": [],
   "source": [
    "d_bin_size <- 0.025\n",
    "d_bin_max <- 0.25"
   ]
  },
  {
   "cell_type": "markdown",
   "id": "a070ad99",
   "metadata": {},
   "source": [
    "## Required R packages\n",
    "\n",
    "* `dplyr` for data management\n",
    "* `ggplot2` for plotting figures to inspect the counterfactuals\n",
    "* `Rcpp` to call C++ code for fast nearest neighbor matching\n",
    "* `readr` to read in .csv files with neural network prediction\n",
    "* `reticulate` to call Python code for fast calculation of distances between many points\n",
    "* `sf` to transform planar coordinates into latitude and longitude\n",
    "* `tidyr` to pivot tables\n"
   ]
  },
  {
   "cell_type": "code",
   "execution_count": 2,
   "id": "ad632b92",
   "metadata": {
    "message": false,
    "name": "load-packages",
    "results": "hold",
    "warning": false
   },
   "outputs": [
    {
     "name": "stderr",
     "output_type": "stream",
     "text": [
      "\n",
      "Attaching package: 'dplyr'\n",
      "\n",
      "\n",
      "The following objects are masked from 'package:stats':\n",
      "\n",
      "    filter, lag\n",
      "\n",
      "\n",
      "The following objects are masked from 'package:base':\n",
      "\n",
      "    intersect, setdiff, setequal, union\n",
      "\n",
      "\n",
      "Linking to GEOS 3.9.3, GDAL 3.5.2, PROJ 8.2.1; sf_use_s2() is TRUE\n",
      "\n"
     ]
    }
   ],
   "source": [
    "library(dplyr)\n",
    "library(ggplot2)\n",
    "library(Rcpp)\n",
    "library(readr)\n",
    "library(reticulate)\n",
    "library(sf)\n",
    "library(tidyr)"
   ]
  },
  {
   "cell_type": "markdown",
   "id": "f0c26d52",
   "metadata": {},
   "source": [
    "## Source C++ and Python helper functions"
   ]
  },
  {
   "cell_type": "code",
   "execution_count": 3,
   "id": "0a9e11f4",
   "metadata": {
    "lines_to_next_cell": 2,
    "name": "source-files"
   },
   "outputs": [],
   "source": [
    "sourceCpp(\"match_nearest.cpp\")\n",
    "source_python(\"dist_between_vectors.py\")"
   ]
  },
  {
   "cell_type": "markdown",
   "id": "102a4c54",
   "metadata": {},
   "source": [
    "## Pre-process neural net output\n",
    "\n",
    "Load the neural network activation"
   ]
  },
  {
   "cell_type": "code",
   "execution_count": 4,
   "id": "9c46a5ee",
   "metadata": {
    "name": "load-activation"
   },
   "outputs": [],
   "source": [
    "dat_pred_loc_in <- read_csv(unz(\"neural-net/predicted_activation-2021-11-23--13-37.zip\",\n",
    "                                \"predicted_activation-2021-11-23--13-37.csv\"),\n",
    "                            col_types = \"iliid\", lazy=FALSE)"
   ]
  },
  {
   "cell_type": "markdown",
   "id": "c81ea97e",
   "metadata": {},
   "source": [
    "and find their coordinates by matching each relative location to its center"
   ]
  },
  {
   "cell_type": "code",
   "execution_count": 5,
   "id": "37147548",
   "metadata": {
    "lines_to_next_cell": 2,
    "name": "assign-coordinates"
   },
   "outputs": [],
   "source": [
    "# load geo locations of center points\n",
    "dat_S <- readRDS(\"data/dat_S.rds\")\n",
    "dat_S_candidate_random <- readRDS(\"data/dat_S_candidate_random.rds\")\n",
    "S_geo_all <- rbind(dat_S %>% select(s_id, latitude,longitude),\n",
    "                   dat_S_candidate_random)\n",
    "\n",
    "# x-y of central locations of the predictions\n",
    "mat_S_xy <- cbind(S_geo_all$s_id,\n",
    "                  sf_project(from=\"WGS84\", to=\"EPSG:6419\",\n",
    "                             pts=cbind(S_geo_all$longitude,S_geo_all$latitude)))\n",
    "colnames(mat_S_xy) <- c(\"s_id\",\"x\",\"y\")\n",
    "\n",
    "# x-y of all grid prediction points\n",
    "mat_pred_xy <- dat_pred_loc_in %>% \n",
    "    inner_join(as.data.frame(mat_S_xy) %>% rename(x_s=x,y_s=y), by=\"s_id\") %>% \n",
    "  mutate(x = x_s + x,\n",
    "         y = y_s + y) %>% \n",
    "  select(x, y) %>% \n",
    "  as.matrix\n",
    "# longitude and latitude of all grid prediction points\n",
    "mat_pred_lonlat <- sf_project(from=\"EPSG:6419\", to=\"WGS84\",\n",
    "                              pts=mat_pred_xy)\n",
    "dat_pred_loc <- dat_pred_loc_in %>% \n",
    "  mutate(region_num = ceiling(row_number() / 101)) %>%\n",
    "  group_by(region_num) %>%\n",
    "  mutate(p_cond = exp(activation)/sum(exp(activation))) %>%\n",
    "  mutate(is_center = x^2 + y^2 == min(x^2 + y^2, na.rm = TRUE)) %>%\n",
    "  ungroup() %>%\n",
    "  mutate(latitude = mat_pred_lonlat[,2],\n",
    "         longitude = mat_pred_lonlat[,1]) %>% \n",
    "  select(-x,-y)\n",
    "dat_pred_loc$latitude[is.nan(dat_pred_loc$latitude)]<-NA\n",
    "\n",
    "# remove (large!) temporary matrices\n",
    "rm(dat_pred_loc_in, mat_pred_xy, mat_pred_lonlat, mat_S_xy)"
   ]
  },
  {
   "cell_type": "markdown",
   "id": "2323058b",
   "metadata": {
    "lines_to_next_cell": 0
   },
   "source": [
    "## Match on neural network activation\n",
    "\n",
    "The neural network produced activations for a very large number of locations (`r nrow(dat_pred_loc)`).\n",
    "Most of the activations (and hence locations) differ substantially from the activations of real locations.\n",
    "In the first step, we therefore reduce the number of locations to consider in later propensity-score matching steps by first matching on the activation.\n",
    "\n",
    "Split the neural network activations into those of real locations (to be matched) and those of other locations"
   ]
  },
  {
   "cell_type": "code",
   "execution_count": 6,
   "id": "812865f6",
   "metadata": {
    "name": "real-vs-counterfactual-activation"
   },
   "outputs": [],
   "source": [
    "# real locations (to be matched)\n",
    "dat_S_activation <- dat_pred_loc %>%\n",
    "    filter(real_missing==TRUE,\n",
    "           is_center==TRUE) %>% \n",
    "    select(s_id,activation,p_cond)\n",
    "# candidate locations (used for matching)\n",
    "dat_cand_activation <- dat_pred_loc %>%\n",
    "    filter(real_missing==FALSE) %>% \n",
    "    filter(!is.na(latitude), !is.na(longitude)) %>% \n",
    "    mutate(i = row_number()) %>% \n",
    "    select(i,activation,p_cond, latitude, longitude)"
   ]
  },
  {
   "cell_type": "markdown",
   "id": "c9590b76",
   "metadata": {
    "lines_to_next_cell": 0
   },
   "source": [
    "For each activation score of a real location, find the nearest neighbor activation in terms of activation and in terms of \"conditional probability\" (function of own activation and activation of nearby grid cells that were considered simultaneously)."
   ]
  },
  {
   "cell_type": "code",
   "execution_count": 7,
   "id": "ae76a7c5",
   "metadata": {
    "name": "match-on-activations"
   },
   "outputs": [],
   "source": [
    "match_a <- match_v(as.matrix(dat_S_activation %>% select(s_id,activation) %>% arrange(desc(activation))),\n",
    "                   as.matrix(dat_cand_activation %>% select(i,activation) %>% arrange(desc(activation))),\n",
    "                   0,0)\n",
    "match_p <- match_v(as.matrix(dat_S_activation %>% select(s_id,p_cond) %>% arrange(desc(p_cond))),\n",
    "                   as.matrix(dat_cand_activation %>% select(i,p_cond) %>% arrange(desc(p_cond))),\n",
    "                   0,0)"
   ]
  },
  {
   "cell_type": "markdown",
   "id": "69708df9",
   "metadata": {
    "lines_to_next_cell": 0
   },
   "source": [
    "Take all unique counterfactual locations that are chosen in this matching, and give them a temporary id in the 1000+ range to easily tell apart from id of real locations."
   ]
  },
  {
   "cell_type": "code",
   "execution_count": 8,
   "id": "a2ec9408",
   "metadata": {
    "name": "unique-matches"
   },
   "outputs": [],
   "source": [
    "match_all <- sort(unique(c(match_a,match_p)))\n",
    "dat_cand <- dat_cand_activation %>% \n",
    "    filter(i %in% match_all) %>% \n",
    "    mutate(s_id = 1000 + row_number()) %>% \n",
    "    select(s_id, latitude, longitude)"
   ]
  },
  {
   "cell_type": "markdown",
   "id": "e068de61",
   "metadata": {},
   "source": [
    "But exclude counterfactual locations that are very close to real locations.\n",
    "Here, very close is defined as closer than the shortest distance between any two real locations.\n",
    "Calculating all these distances requires a lot of memory and is therefore done in batches (adjust `batch_size` if needed)."
   ]
  },
  {
   "cell_type": "code",
   "execution_count": 9,
   "id": "afb2a2c3",
   "metadata": {
    "lines_to_next_cell": 2,
    "name": "exclude-too-close"
   },
   "outputs": [],
   "source": [
    "# calculate pairwise distances between all real locations as a baseline\n",
    "dist_real <- dist_between(as.matrix(dat_S %>% select(s_id,latitude,longitude)),\n",
    "                          as.matrix(dat_S %>% select(s_id,latitude,longitude)),\n",
    "                          50) # don't need anything farther apart than 50 (skip farther for memory efficiency)\n",
    "# find all counterfactual locations that are too close to real locations\n",
    "dat_D_cand <- matrix(NA, nrow=0, ncol=3)\n",
    "batch_size <- 1000\n",
    "batch_num <- ceiling(nrow(dat_cand)/batch_size)\n",
    "for (b in seq(batch_num)) {\n",
    "  # if (b%%100 == 1) { print(paste(b,\"out of\",batch_num,\"batches,\",Sys.time())); flush.console()}\n",
    "  idx <- ((b-1)*batch_size + 1):min((b*batch_size),nrow(dat_cand))\n",
    "  tmp <- dist_between(as.matrix(dat_cand %>% select(s_id,latitude,longitude))[idx,],\n",
    "                      as.matrix(dat_S %>% select(s_id,latitude,longitude)),\n",
    "                      min(dist_real[dist_real[,1]<dist_real[,2],3])*2/3)\n",
    "  dat_D_cand <- rbind(dat_D_cand, tmp)\n",
    "}\n",
    "# and remove those that are too close\n",
    "dat_cand <- dat_cand %>% filter(!(s_id %in% dat_D_cand[,1]))\n",
    "rm(dat_D_cand, batch_size, batch_num, idx, tmp)\n"
   ]
  },
  {
   "cell_type": "markdown",
   "id": "12e1a41d",
   "metadata": {},
   "source": [
    "## Estimate preliminary propensity scores and match on those\n",
    "\n",
    "Now there are only `r nrow(dat_cand)` possible counterfactual locations to consider.\n",
    "To decide which of these to use, we estimate a propensity score model and match on it.\n",
    "First, we create covariates to use in propensity score estimation.\n",
    "Second, we estimate the propensity score.\n",
    "Third, we match on the estimated propensity score.\n",
    "Fourth, re-estimate the propensity score to obtain a propensity score that balances the most relevant characteristics in the final sample.\n",
    "Note that the statistical theory reflects a thought experiment that is *conditional on these locations and propensity score* such that this re-estimation does not invalidate the theory."
   ]
  },
  {
   "cell_type": "markdown",
   "id": "00170803",
   "metadata": {},
   "source": [
    "### Creating covariates for propensity score estimation\n",
    "\n",
    "To estimate a propensity score model, first calculate distances between these counterfactual locations and all real businesses.\n",
    "The distances for real treatment locations were calculated previously and can simply be loaded into `dat_D`."
   ]
  },
  {
   "cell_type": "code",
   "execution_count": 10,
   "id": "9415cb4e",
   "metadata": {
    "name": "calc-distances-to-counterfactual"
   },
   "outputs": [],
   "source": [
    "dat_A <- readRDS(\"data/dat_A.rds\")  # load businesses\n",
    "\n",
    "# in batches\n",
    "batch_size <- 1000\n",
    "batch_num <- ceiling(nrow(dat_cand)/batch_size)\n",
    "dat_D_cand <- matrix(NA, nrow=0, ncol=3)\n",
    "for (b in seq(batch_num)) {\n",
    "    idx <- ((b-1)*batch_size + 1):(b*batch_size)\n",
    "    tmp <- dist_between(as.matrix(dat_cand %>% select(s_id,latitude,longitude) %>% slice(idx)),\n",
    "                        as.matrix(dat_A %>% select(a_id,latitude,longitude)))\n",
    "    dat_D_cand <- rbind(dat_D_cand, tmp)\n",
    "}\n",
    "colnames(dat_D_cand) <- c(\"s_id\",\"a_id\",\"dist_m\")\n",
    "dat_D_cand <- as_tibble(dat_D_cand) %>% \n",
    "    mutate(s_id = as.integer(s_id),\n",
    "           a_id = as.integer(a_id),\n",
    "           dist_m = as.integer(dist_m),\n",
    "           dist_km = dist_m / 1000,\n",
    "           dist_mi = dist_m*0.62137119223733/1000)\n",
    "\n",
    "\n",
    "dat_D <- readRDS(\"data/dat_D.rds\")\n",
    "dat_D_all <-  rbind(dat_D, dat_D_cand)\n",
    "rm(dat_D_cand)"
   ]
  },
  {
   "cell_type": "markdown",
   "id": "96e911e5",
   "metadata": {
    "lines_to_next_cell": 0
   },
   "source": [
    "Next, for each outcome unit (restaurant), count the number of real treatment locations (grocery stores) to create a covariate that generates balance in treatment exposure."
   ]
  },
  {
   "cell_type": "code",
   "execution_count": 11,
   "id": "5cae4a2a",
   "metadata": {
    "name": "count-exposure-covariate"
   },
   "outputs": [],
   "source": [
    "dat_outcome_ids <- dat_A %>% filter(floor(naics_code/100) == 7225) %>% select(a_id) %>% .$a_id\n",
    "\n",
    "# number of real treatment locations in each distance bin from each outcome unit\n",
    "    # only outcome units within d_bin_max miles\n",
    "dat_out_num_treat <- dat_D_all %>% filter(a_id %in% dat_outcome_ids, dist_mi < d_bin_max) %>% \n",
    "    # is the treatment location real?\n",
    "    mutate(W = s_id < 1000) %>% \n",
    "    # how far away from a grocery store is the restaurant -- as distance bin\n",
    "    mutate(dist_bin = floor(dist_mi/d_bin_size)) %>% \n",
    "    # summarize by outcome unit and distance bin\n",
    "    group_by(a_id, dist_bin) %>% \n",
    "    summarize(n = sum(W), .groups = \"drop\") %>% \n",
    "    # turn distance bins from rows into columns\n",
    "    pivot_wider(id_cols = a_id,\n",
    "                names_from = dist_bin,\n",
    "                names_prefix = \"db_a_\",\n",
    "                values_from = n,\n",
    "                values_fill = 0)\n",
    "# get the names of the distance bin columns for later use\n",
    "names_db_a <- sort(colnames(dat_out_num_treat)[-1])"
   ]
  },
  {
   "cell_type": "markdown",
   "id": "f76009cf",
   "metadata": {},
   "source": [
    "For each treatment location, count the number of outcome units as well as the average exposure of those outcome units, again by distance bin.\n",
    "Importantly, we want balance in exposure to *other* treatment locations.\n",
    "So, if a location s is a real treatment location, then when considering the exposure of restaurants near it, don't count exposure to s."
   ]
  },
  {
   "cell_type": "code",
   "execution_count": 12,
   "id": "a4923f33",
   "metadata": {
    "name": "remove-self-summarize"
   },
   "outputs": [],
   "source": [
    "tmp <- dat_D_all %>% \n",
    "    # only businesses within d_bin_max miles\n",
    "    filter(dist_mi < d_bin_max) %>% \n",
    "    inner_join(dat_out_num_treat, by = \"a_id\") %>% \n",
    "    # how far away from a grocery store is the restaurant -- as distance bin\n",
    "    mutate(dist_bin = floor(dist_mi/d_bin_size)) %>% \n",
    "    mutate(W = s_id < 1000)\n",
    "\n",
    "# don't count exposure to the treatment location itself (only to other treatment locations)\n",
    "for (i in seq(nrow(tmp))) {\n",
    "    # only if in row i, s_id is a real treatment location\n",
    "    if (tmp[i,\"W\"] == TRUE) {\n",
    "        # how far (which distance bin) is a_id from s_id\n",
    "        db <- tmp[i,]$dist_bin\n",
    "        db_str <- paste0(\"db_a_\",db)\n",
    "        # subtract it from exposure of the a_id in row i to treatments at that distance bin\n",
    "        tmp[i,db_str] <- tmp[i,db_str] - 1\n",
    "    }\n",
    "}\n",
    "# summarize by treatment location and distance\n",
    "dat_reg_p <- tmp %>% \n",
    "    group_by(s_id, dist_bin) %>% \n",
    "    summarize(n = n(), across(starts_with(\"db_a_\"), mean), .groups = \"drop\") %>% \n",
    "    # turn distance bins from rows into columns\n",
    "    pivot_wider(id_cols = s_id,\n",
    "                names_from = dist_bin,\n",
    "                values_from = c(\"n\", all_of(names_db_a)),\n",
    "                values_fill = 0)\n",
    "# order columns in a more convenient way\n",
    "dat_reg_p <- dat_reg_p %>% \n",
    "    select(all_of(sort(colnames(dat_reg_p)))) %>% \n",
    "    select(s_id, starts_with(\"n_\"), starts_with(\"db_a_\"))\n",
    "\n",
    "# add back treatment locations that have no outcome units near them\n",
    "dat_reg_p <- tibble(s_id = sort(unique(dat_D_all$s_id))) %>% \n",
    "    left_join(dat_reg_p, by = \"s_id\") %>% \n",
    "    replace(is.na(.), 0)\n"
   ]
  },
  {
   "cell_type": "markdown",
   "id": "651b2d71",
   "metadata": {
    "lines_to_next_cell": 0
   },
   "source": [
    "Finally, also add other covariates describing the area around treatment locations, such as the total number of businesses at a few distances."
   ]
  },
  {
   "cell_type": "code",
   "execution_count": 13,
   "id": "997dcf8c",
   "metadata": {
    "lines_to_next_cell": 2,
    "name": "add-other-covariates"
   },
   "outputs": [],
   "source": [
    "# add total number of businesses at a couple of distances\n",
    "dat_reg_p <- dat_reg_p %>% \n",
    "    left_join(dat_D_all %>%\n",
    "                  filter(dist_mi > 0, dist_mi < 1) %>% \n",
    "                  mutate(dist_bin = 100*d_bin_max*ceiling(dist_mi / d_bin_max)) %>% \n",
    "                  group_by(s_id, dist_bin) %>% \n",
    "                  summarize(n = n(), .groups = \"drop\") %>% \n",
    "                  pivot_wider(id_cols = s_id,\n",
    "                              names_from = dist_bin,\n",
    "                              names_prefix = \"db_oth\",\n",
    "                              values_from = n,\n",
    "                              values_fill = 0),\n",
    "              by = \"s_id\") %>% \n",
    "    mutate(W = s_id < 1000)"
   ]
  },
  {
   "cell_type": "markdown",
   "id": "625b305c",
   "metadata": {
    "lines_to_next_cell": 0
   },
   "source": [
    "### Estimating the propensity score\n",
    "\n",
    "Estimate the propensity score by logistic regression of the dummy indicating real vs counterfactual location on the covariates created above."
   ]
  },
  {
   "cell_type": "code",
   "execution_count": 14,
   "id": "938422e1",
   "metadata": {
    "name": "estimate-pscore-1"
   },
   "outputs": [],
   "source": [
    "f <- as.formula(paste(\"W\",\"~\", paste(colnames(dat_reg_p)[-c(1,ncol(dat_reg_p))], collapse = \" + \")))\n",
    "reg_glm <- glm(formula = f, family = \"binomial\", data = dat_reg_p)\n",
    "dat_reg_out <- as_tibble(cbind(dat_reg_p %>% select(s_id, W), p = predict(reg_glm, type=\"response\")))"
   ]
  },
  {
   "cell_type": "markdown",
   "id": "5a44a5f6",
   "metadata": {
    "lines_to_next_cell": 0
   },
   "source": [
    "We can visualize the overlap (in propensity scores) prior to matching:"
   ]
  },
  {
   "cell_type": "code",
   "execution_count": 15,
   "id": "5928347d",
   "metadata": {
    "lines_to_next_cell": 2,
    "name": "overlap1"
   },
   "outputs": [
    {
     "data": {
      "image/png": "[encoded data removed]",
      "text/plain": [
       "plot without title"
      ]
     },
     "metadata": {
      "image/png": {
       "height": 420,
       "width": 420
      }
     },
     "output_type": "display_data"
    }
   ],
   "source": [
    "dat_reg_out %>% \n",
    "    ggplot(aes(x=p, fill = W)) +\n",
    "    geom_density(alpha = 0.5) +\n",
    "    ggtitle(\"overlap before matching\") +\n",
    "    ylab(\"Propensity Score\") +\n",
    "    theme_minimal()"
   ]
  },
  {
   "cell_type": "markdown",
   "id": "45d2ab06",
   "metadata": {
    "lines_to_next_cell": 0
   },
   "source": [
    "### Matching on the estimated propensity score\n",
    "\n",
    "Nearest neighbor matching, again removing points too close to one another."
   ]
  },
  {
   "cell_type": "code",
   "execution_count": 16,
   "id": "ff15cf8b",
   "metadata": {
    "name": "match-pscore"
   },
   "outputs": [],
   "source": [
    "# matching\n",
    "matT <- as.matrix(dat_reg_out %>% filter(W == TRUE) %>% select(s_id, p) %>% arrange(desc(p)))\n",
    "matC <- as.matrix(dat_reg_out %>% filter(W == FALSE) %>% select(s_id, p) %>% arrange(desc(p)))\n",
    "match_propscore <- match_v(matT,matC,1,1)\n",
    "# kick out those that are too close to one another\n",
    "dSS <- dist_between(as.matrix(dat_cand %>% \n",
    "                                filter(s_id %in% match_propscore) \n",
    "                              %>% select(s_id, latitude, longitude)),\n",
    "                    as.matrix(dat_cand %>% \n",
    "                                filter(s_id %in% match_propscore) \n",
    "                              %>% select(s_id, latitude, longitude)),\n",
    "                    min(dist_real[dist_real[,1]<dist_real[,2],3]))\n",
    "dSS <- dSS[dSS[,1]<dSS[,2],]\n",
    "matC <- as.matrix(dat_reg_out %>% filter(W == FALSE, !(s_id %in% dSS[,1])) %>% select(s_id, p) %>% arrange(desc(p)))\n",
    "match_propscore <- match_v(matT,matC,1,0)"
   ]
  },
  {
   "cell_type": "markdown",
   "id": "7e726a24",
   "metadata": {
    "lines_to_next_cell": 0
   },
   "source": [
    "Finally, inspect overlap after matching"
   ]
  },
  {
   "cell_type": "code",
   "execution_count": 17,
   "id": "47318449",
   "metadata": {
    "name": "overlap2"
   },
   "outputs": [
    {
     "data": {
      "image/png": "[encoded data removed]",
      "text/plain": [
       "plot without title"
      ]
     },
     "metadata": {
      "image/png": {
       "height": 420,
       "width": 420
      }
     },
     "output_type": "display_data"
    }
   ],
   "source": [
    "dat_reg_out %>% \n",
    "    filter(W == TRUE | s_id %in% match_propscore) %>% \n",
    "    ggplot(aes(x=p, fill=W)) +\n",
    "    geom_density(alpha = 0.5) +\n",
    "    ggtitle(\"overlap after matching (before re-estimating propensity score)\") +\n",
    "    xlab(\"Propensity Score\") +\n",
    "    theme_minimal()"
   ]
  },
  {
   "cell_type": "markdown",
   "id": "c26df5af",
   "metadata": {
    "lines_to_next_cell": 0
   },
   "source": [
    "Much better!\n",
    "\n",
    "Select those matches in the relevant tables:"
   ]
  },
  {
   "cell_type": "code",
   "execution_count": 18,
   "id": "d55a6e80",
   "metadata": {
    "lines_to_next_cell": 2,
    "name": "selected-counterfactuals"
   },
   "outputs": [],
   "source": [
    "dat_cand_sel <- dat_reg_out %>% \n",
    "    filter(s_id %in% match_propscore) %>% \n",
    "    inner_join(dat_cand, by = \"s_id\") %>% \n",
    "    mutate(s_id_old = s_id,\n",
    "           s_id = 1000 + row_number()) %>% \n",
    "    select(s_id, latitude, longitude, s_id_old)\n",
    "dat_D_cand_sel <- dat_D_all %>% \n",
    "    filter(s_id %in% match_propscore) %>% \n",
    "    inner_join(dat_cand_sel, by=c(\"s_id\"=\"s_id_old\")) %>% \n",
    "    mutate(s_id = s_id.y) %>% \n",
    "    select(s_id, a_id, dist_m, dist_km, dist_mi)\n",
    "\n",
    "dat_reg_p_sel <- dat_reg_p %>% \n",
    "    filter(s_id < 1000 | s_id %in% match_propscore) %>% \n",
    "    left_join(dat_cand_sel %>% select(s_id, s_id_old), by = c(\"s_id\" = \"s_id_old\")) %>%\n",
    "    mutate(s_id = ifelse(is.na(s_id.y),s_id,s_id.y)) %>% \n",
    "    select(-s_id.y)"
   ]
  },
  {
   "cell_type": "markdown",
   "id": "b154a7bb",
   "metadata": {
    "lines_to_next_cell": 0
   },
   "source": [
    "### Re-estimation of the propensity score\n",
    "\n",
    "Again a logistic regression, this time only on the final sample of selected locations"
   ]
  },
  {
   "cell_type": "code",
   "execution_count": 19,
   "id": "85ab5b1d",
   "metadata": {
    "name": "estimate-pscore2"
   },
   "outputs": [],
   "source": [
    "f <- as.formula(paste(\"W\",\"~\", paste(colnames(dat_reg_p_sel)[-c(1,ncol(dat_reg_p_sel))], collapse = \" + \")))\n",
    "reg_glm_sel <- glm(formula = f, family = \"binomial\", data = dat_reg_p_sel)\n",
    "dat_reg_out_sel <- as_tibble(cbind(dat_reg_p_sel %>% select(s_id, W), p = predict(reg_glm_sel, type=\"response\")))"
   ]
  },
  {
   "cell_type": "markdown",
   "id": "46235b3a",
   "metadata": {
    "lines_to_next_cell": 0
   },
   "source": [
    "After re-estimating the propensity score, the scores tend to be much larger because estimation was done in the matched sample where the unconditional probability of treatment was noticeably higher than in the sample before matching (which contained many more counterfactual locations).\n",
    "\n",
    "Mechanically, there is less overlap in the re-estimated propensity score."
   ]
  },
  {
   "cell_type": "code",
   "execution_count": 20,
   "id": "e4d31bc9",
   "metadata": {
    "lines_to_next_cell": 0,
    "name": "overlap3"
   },
   "outputs": [
    {
     "data": {
      "image/png": "[encoded data removed]",
      "text/plain": [
       "plot without title"
      ]
     },
     "metadata": {
      "image/png": {
       "height": 420,
       "width": 420
      }
     },
     "output_type": "display_data"
    }
   ],
   "source": [
    "dat_reg_out_sel %>% \n",
    "    ggplot(aes(x=p, fill = W)) +\n",
    "    geom_histogram(alpha = 0.5, binwidth = 0.05) +\n",
    "    ggtitle(\"overlap after matching\") +\n",
    "    xlab(\"Propensity Score\") +\n",
    "    theme_minimal()"
   ]
  },
  {
   "cell_type": "markdown",
   "id": "d2834878",
   "metadata": {
    "lines_to_next_cell": 0
   },
   "source": [
    "But for the most part, the treated and control still resemble one another in terms of propensity scores.\n",
    "Note that, by definition, at high propensity scores, most units must be treated, and at low propensity scores, most units must be untreated.\n",
    "We can see that this is indeed the case by plotting whether of the units with propensity score of `p` indeed approximately a fraction `p` is treated:"
   ]
  },
  {
   "cell_type": "code",
   "execution_count": 21,
   "id": "45fee516",
   "metadata": {
    "lines_to_next_cell": 0,
    "name": "nonparametric-fit"
   },
   "outputs": [
    {
     "data": {
      "image/png": "[encoded data removed]",
      "text/plain": [
       "plot without title"
      ]
     },
     "metadata": {
      "image/png": {
       "height": 420,
       "width": 420
      }
     },
     "output_type": "display_data"
    }
   ],
   "source": [
    "dat_reg_out_sel %>% \n",
    "    mutate(W = as.numeric(W)) %>% \n",
    "    ggplot(aes(x=p,y=W)) +\n",
    "    geom_abline(slope=1, intercept=0) +\n",
    "    geom_smooth(method=\"loess\",formula=\"y~x\") +\n",
    "    ylab(\"geom_smooth estimated propensity score\") +\n",
    "    xlab(\"Propensity Score\") +\n",
    "    theme_minimal()"
   ]
  },
  {
   "cell_type": "markdown",
   "id": "9e33b77b",
   "metadata": {},
   "source": [
    "Note that this should mechanically be the case as long as our logistic regression model was sufficiently flexible."
   ]
  },
  {
   "cell_type": "markdown",
   "id": "489bfb4c",
   "metadata": {
    "lines_to_next_cell": 0
   },
   "source": [
    "Finally, save the the chosen counterfactual locations and propensity scores for later use."
   ]
  },
  {
   "cell_type": "code",
   "execution_count": 22,
   "id": "85703051",
   "metadata": {
    "lines_to_next_cell": 2,
    "name": "save-counterfactuals"
   },
   "outputs": [],
   "source": [
    "saveRDS(dat_cand_sel, \"data/dat_cand.rds\")\n",
    "saveRDS(dat_D_cand_sel, \"data/dat_D_cand.rds\")\n",
    "saveRDS(dat_reg_p_sel, \"data/dat_reg_p_cand.rds\")\n",
    "saveRDS(dat_reg_out_sel, \"data/dat_reg_out_sel.rds\")\n",
    "saveRDS(dat_out_num_treat, \"data/dat_out_num_treat.rds\")"
   ]
  },
  {
   "cell_type": "markdown",
   "id": "1c1d0c52",
   "metadata": {},
   "source": [
    "## Visualizing balance in exposure and covariates\n",
    "\n",
    "Before estimating treatment effects, it is important to check whether the counterfactual locations indeed provide a plausible counterfactual for the treated locations.\n",
    "Two characteristics are particularly important:\n",
    "\n",
    "1. Is the exposure to treatment similar but differing by 1 at the distance of interest?\n",
    "2. Are the areas around the locations similar along other observable characteristics?\n",
    "\n",
    "Additionally, in a real application, we may plot the real and counterfactual locations on a map to inspect them at a more intuitive level.\n",
    "If we observe any systematic difference, then the treatment effect estimates may be due to not just difference in exposure to treatment, but also to these other systematic differences.\n",
    "If there are large differences at this step, me may wish to augment the propensity score matching (using different covariates in propensity score estimation or a different number of matches) or to the neural network (changing for instance the number of layers, the spatial reach of the convolution operation, or the covariates used).\n",
    "\n",
    "Note that we should carry out these checks before considering any outcome data."
   ]
  },
  {
   "cell_type": "markdown",
   "id": "db6eb3e3",
   "metadata": {},
   "source": [
    "### Exposure to the treatment\n",
    "\n",
    "Consider the exposure of outcome units to real treatment locations.\n",
    "Ideally, when estimating the effect on outcome units at distance d, at that distance the units in the treated group have one additional treatment location compared to the control group.\n",
    "At other distances, the exposure to real treatment locations should be similar.\n",
    "We can investigate whether this is indeed the case by looking at the difference in average exposure by at different distances for outcome units."
   ]
  },
  {
   "cell_type": "code",
   "execution_count": 23,
   "id": "ddb18aeb",
   "metadata": {
    "name": "calc-plot-exposure-diff"
   },
   "outputs": [
    {
     "data": {
      "image/png": "[encoded data removed]",
      "text/plain": [
       "plot without title"
      ]
     },
     "metadata": {
      "image/png": {
       "height": 420,
       "width": 420
      }
     },
     "output_type": "display_data"
    }
   ],
   "source": [
    "dat_exposure <- rbind(dat_D,dat_D_cand_sel) %>% \n",
    "    filter(dist_mi < d_bin_max) %>% \n",
    "    inner_join(dat_out_num_treat, by = \"a_id\") %>% \n",
    "    inner_join(dat_reg_out_sel, by = \"s_id\") %>% \n",
    "    mutate(dist_bin = as.integer(floor(dist_mi/d_bin_size))) %>%\n",
    "    pivot_longer(cols = starts_with(\"db_a_\"),\n",
    "                 names_to = \"dist_from_a\",\n",
    "                 names_prefix = \"db_a_\",\n",
    "                 names_transform = list(dist_from_a = as.integer),\n",
    "                 values_to = \"x\") %>% \n",
    "    group_by(dist_bin, dist_from_a) %>% \n",
    "    summarize(x1 = sum(W*x)/sum(W),\n",
    "              x0 = sum((1-W)/(1-p)*p*x)/sum((1-W)/(1-p)*p),\n",
    "              n1 = sum(W),\n",
    "              n0 = sum(1-W),\n",
    "              .groups = \"drop\") %>% \n",
    "    arrange(dist_bin, dist_from_a)\n",
    "\n",
    "dat_exposure %>% \n",
    "    mutate(diff = x1-x0,\n",
    "           dist_bin_fact = factor(dist_bin,\n",
    "                                  levels = sort(unique(dat_exposure$dist_bin)),\n",
    "                                  labels = paste(\"at\",\n",
    "                                                 sort(unique(dat_exposure$dist_bin))*d_bin_size,\n",
    "                                                 \"-\",\n",
    "                                                 d_bin_size+sort(unique(dat_exposure$dist_bin))*d_bin_size,\n",
    "                                                 \"mi\"))) %>% \n",
    "    mutate(d = d_bin_size*dist_from_a + d_bin_size/2,) %>% \n",
    "    ggplot(aes(x=d, y=diff)) +\n",
    "    geom_hline(yintercept = 0, linewidth = 1, color = \"#666666\") +\n",
    "    geom_hline(yintercept = 1, linetype = \"dashed\", linewidth = 1, color = \"#666666\") +\n",
    "    geom_line(linewidth = 1.5, color=\"#1F78B4\") +\n",
    "    facet_wrap(.~ dist_bin_fact, ncol=5) +\n",
    "    ylab(\"Diff. in Avg. Exposure to Grocery Stores at Distance from Restaurant\") +\n",
    "    xlab(\"Distance from Restaurant (in miles)\") +\n",
    "    scale_y_continuous(breaks=seq(-0.25,1,by=0.25)) +\n",
    "    theme_minimal() +\n",
    "    theme(legend.position = \"none\") +\n",
    "    theme(strip.background = element_rect(fill=\"#f2f2f2\", linetype=\"solid\"),\n",
    "          panel.border=element_rect(fill=NA))\n"
   ]
  },
  {
   "cell_type": "markdown",
   "id": "79fb1959",
   "metadata": {},
   "source": [
    "Looking at outcome units at a certain distance (a particular panel of the figure), we see a spike in the difference in average exposure at exactly the distance at which these outcome units are from the real vs. counterfactual treatment locations.\n",
    "That is, they are indeed on average exposed to one more treatment location at the correct distance, with exposure at other distances fairly similar between treated and control.\n",
    "A possible exception are the outcome units that are very close to the locations (top left panel).\n",
    "For these outcome units, the treated are exposed to slightly fewer real treatments at a distance of about 0.1 miles than the control.\n",
    "Such differences in exposure should be taken into account when interpreting the effect:\n",
    "When estimating the effect for the treated and control in the top left panel, we are estimating the effect of on average one more treatment at an extremely short distance and about 0.25 fewer treatments at 0.1 miles."
   ]
  },
  {
   "cell_type": "markdown",
   "id": "49982b3e",
   "metadata": {},
   "source": [
    "### Balance in other covariates\n",
    "\n",
    "We demonstrate that the areas around real and counterfactual treatment locations are similar.\n",
    "Here, we focus on the types of businesses nearby.\n",
    "For each treatment location, we count, by distance away, the number of businesses in each industry."
   ]
  },
  {
   "cell_type": "code",
   "execution_count": 24,
   "id": "f4ebeb2a",
   "metadata": {
    "name": "calc-balance"
   },
   "outputs": [],
   "source": [
    "num_ind_by_s_by_dist <- rbind(dat_D,dat_D_cand_sel) %>% \n",
    "  filter(dist_mi < 1) %>% \n",
    "  inner_join(dat_A, by=\"a_id\") %>% \n",
    "  mutate(dist_bin = as.integer(floor(dist_mi/d_bin_size)),\n",
    "         naics2 = as.integer(floor(naics_code/10000))) %>%\n",
    "  group_by(s_id, naics2, dist_bin) %>% \n",
    "  summarize(n=n(), .groups=\"drop\")\n",
    "# don't forget about the treatment location-distance-industry tuples without businesses in it\n",
    "dat_balance <- dat_reg_out_sel %>% \n",
    "  left_join(tibble(dist_bin=0:39), by=character()) %>% \n",
    "  left_join(tibble(naics2 = sort(unique(floor(dat_A$naics_code/10000)))), by=character()) %>% \n",
    "  left_join(num_ind_by_s_by_dist, by = c(\"s_id\", \"dist_bin\", \"naics2\")) %>% \n",
    "  replace(is.na(.), 0) %>% \n",
    "  group_by(s_id,dist_bin) %>% \n",
    "  mutate(np = n/max(1,sum(n))) %>% \n",
    "  group_by(dist_bin,naics2) %>% \n",
    "  summarize(n1 = sum(W*n)/sum(W),\n",
    "            n0 = sum((1-W)/(1-p)*p*n)/sum((1-W)/(1-p)*p),\n",
    "            np1 = sum(W*np)/sum(W),\n",
    "            np0 = sum((1-W)/(1-p)*p*np)/sum((1-W)/(1-p)*p),\n",
    "            .groups = \"drop\")"
   ]
  },
  {
   "cell_type": "markdown",
   "id": "6bbf61b6",
   "metadata": {
    "lines_to_next_cell": 0
   },
   "source": [
    "Plot the average number of businesses by industry by distance, for real and counterfactual locations:"
   ]
  },
  {
   "cell_type": "code",
   "execution_count": 25,
   "id": "8e6b49de",
   "metadata": {
    "name": "plot-balance"
   },
   "outputs": [
    {
     "data": {
      "image/png": "[encoded data removed]",
      "text/plain": [
       "plot without title"
      ]
     },
     "metadata": {
      "image/png": {
       "height": 420,
       "width": 420
      }
     },
     "output_type": "display_data"
    }
   ],
   "source": [
    "\n",
    "dat_balance %>% \n",
    "  filter(dist_bin < 20, !(naics2 %in% c(44,72))) %>% \n",
    "  pivot_longer(cols=c(\"n1\",\"n0\"),\n",
    "               names_prefix = \"n\",\n",
    "               names_to = \"W\",\n",
    "               names_transform = list(W = as.factor),\n",
    "               values_to = \"x\") %>% \n",
    "  mutate(naics2_fact = factor(naics2,\n",
    "                                levels = sort(unique(dat_balance$naics2)),\n",
    "                                labels = paste(\"Industry:\",\n",
    "                                               sort(unique(dat_balance$naics2)))),\n",
    "         d = d_bin_size*dist_bin + d_bin_size/2) %>% \n",
    "  ggplot(aes(x=d,y=x,color=W)) +\n",
    "  geom_line(linewidth=1.5) +\n",
    "  scale_color_manual(labels = c(\"near counterfactual location\",\n",
    "                                  \"near real treatment location\"),\n",
    "                       values = c(\"#33A02C\", \"#8A3437\"), name = \"\") +\n",
    "  ylab(\"number of businesses\") +\n",
    "  xlab(\"distance from real or counterfactual location (in miles)\") +\n",
    "  facet_wrap(.~naics2_fact, scales=\"free\") +\n",
    "  theme_minimal() +\n",
    "  theme(legend.position = c(0.85,0.25),\n",
    "        strip.background = element_rect(fill=\"#f2f2f2\", linetype=\"solid\"),\n",
    "        panel.border=element_rect(fill=NA))"
   ]
  },
  {
   "cell_type": "markdown",
   "id": "c23bf5ea",
   "metadata": {},
   "source": [
    "At least in terms of these coarse summary statistics (corresponding to industries that are neither treatment nor outcome units), the areas around real and counterfactual locations are fairly similar.\n",
    "Note that this result is not mechanical: \n",
    "These variables do not appear directly in the propensity score estimation.\n",
    "Instead, they are used only in training the neural network.\n",
    "By focusing analysis on a subset of the locations that appear similar to real locations to the neural network, at least in this case we retain the similarity even after propensity score matching, possibly because the variables used in propensity score estimation are likely somewhat correlated to other spatial characteristics of these areas.\n",
    "\n",
    "To the extent that there are small differences in these areas, we should interpret treatment effect estimates carefully:\n",
    "They reflect the combination of difference in exposure (previous figure) and differences in other industry composition (this figure)."
   ]
  }
 ],
 "metadata": {
  "jupytext": {
   "formats": "ipynb,Rmd"
  },
  "kernelspec": {
   "display_name": "R",
   "language": "R",
   "name": "ir"
  },
  "language_info": {
   "codemirror_mode": "r",
   "file_extension": ".r",
   "mimetype": "text/x-r-source",
   "name": "R",
   "pygments_lexer": "r",
   "version": "4.2.2"
  }
 },
 "nbformat": 4,
 "nbformat_minor": 5
}
