{
 "cells": [
  {
   "cell_type": "markdown",
   "id": "81ff19ba",
   "metadata": {},
   "source": [
    "# 01: Place Data in Grid"
   ]
  },
  {
   "cell_type": "markdown",
   "id": "416253eb",
   "metadata": {},
   "source": [
    "## Required R packages\n",
    "\n",
    "* `dplyr` for data management\n",
    "* `reticulate` to call Python code for fast calculation of distances between many points\n",
    "* `sf` to transform latitude and longitude into planar coordinates"
   ]
  },
  {
   "cell_type": "code",
   "execution_count": 1,
   "id": "cb3b0125",
   "metadata": {
    "lines_to_next_cell": 0,
    "message": false,
    "name": "load-packages",
    "results": "hold",
    "warning": false
   },
   "outputs": [
    {
     "name": "stderr",
     "output_type": "stream",
     "text": [
      "\n",
      "Attaching package: 'dplyr'\n",
      "\n",
      "The following objects are masked from 'package:stats':\n",
      "\n",
      "    filter, lag\n",
      "\n",
      "The following objects are masked from 'package:base':\n",
      "\n",
      "    intersect, setdiff, setequal, union\n",
      "\n",
      "Warning message:\n",
      "\"package 'sf' was built under R version 3.6.3\"Linking to GEOS 3.9.0, GDAL 3.2.1, PROJ 7.2.1\n"
     ]
    }
   ],
   "source": [
    "library(dplyr)\n",
    "library(reticulate)\n",
    "library(sf)"
   ]
  },
  {
   "cell_type": "markdown",
   "id": "be3c9639",
   "metadata": {
    "lines_to_next_cell": 0
   },
   "source": [
    "and set the seed of the random number generator for reproducability."
   ]
  },
  {
   "cell_type": "code",
   "execution_count": 2,
   "id": "200bfdfd",
   "metadata": {
    "name": "set-seed"
   },
   "outputs": [],
   "source": [
    "set.seed(24601)"
   ]
  },
  {
   "cell_type": "markdown",
   "id": "4d4aa8ca",
   "metadata": {},
   "source": [
    "## Required Python packages\n",
    "\n",
    "The Python 3 code calculating distances between many points requires\n",
    "\n",
    "* `numpy` for matrix operations\n",
    "* `numba` for just-in-time compilation for faster computation\n",
    "\n",
    "The Python code called from this R code is contained in the two files `dist_between_vectors.py` and `distance.py` which are included in the repository.\n",
    "\n",
    "## Load the simulated example data\n",
    "\n",
    "The data files included in the Github repository contain data\n",
    "simulated to resemble actual business locations in the San Francisco Bay Area.\n",
    "Neither locations nor visits are real.\n",
    "\n",
    "* dat_S.rds contains the locations of grocery stores\n",
    "* dat_A.rds contains the locations of (and foot-traffic to) nearby businesses of various industries"
   ]
  },
  {
   "cell_type": "code",
   "execution_count": 3,
   "id": "cd95a185",
   "metadata": {
    "lines_to_next_cell": 2,
    "name": "load-data"
   },
   "outputs": [],
   "source": [
    "dat_S <- readRDS(\"data/dat_S.rds\")\n",
    "dat_A <- readRDS(\"data/dat_A.rds\")"
   ]
  },
  {
   "cell_type": "markdown",
   "id": "7c1cc3c4",
   "metadata": {},
   "source": [
    "## Calculate distances from businesses to grocery stores\n",
    "\n",
    "For (much) faster computation of the distances between the `r nrow(dat_A)` businesses and the `r nrow(dat_S)` grocery stores, we call Python code.\n",
    "First, make the Python code available in R.\n",
    "See the top of this document for the required Python packages."
   ]
  },
  {
   "cell_type": "code",
   "execution_count": 4,
   "id": "afed70a3",
   "metadata": {
    "lines_to_next_cell": 0,
    "name": "source-python"
   },
   "outputs": [
    {
     "name": "stderr",
     "output_type": "stream",
     "text": [
      "Warning message in normalizePath(path.expand(path), winslash, mustWork):\n",
      "\"path[1]=\"C:\\PROGRA~3\\MINICO~1\\envs\\r-reticulate/python.exe\": The system cannot find the file specified\""
     ]
    }
   ],
   "source": [
    "source_python(\"dist_between_vectors.py\")"
   ]
  },
  {
   "cell_type": "markdown",
   "id": "185b14b5",
   "metadata": {
    "lines_to_next_cell": 0
   },
   "source": [
    "Note that the function `dist_between` automatically omits from its ouput pairs of points that are far apart\n",
    "(not within a 2.5 mile square of each other).\n",
    "\n",
    "Next, calculate and save distances between businesses and grocery stores."
   ]
  },
  {
   "cell_type": "code",
   "execution_count": 5,
   "id": "2aabceb5",
   "metadata": {
    "name": "dist-AS"
   },
   "outputs": [],
   "source": [
    "dat_D <- dist_between(as.matrix(dat_S %>% select(s_id,latitude,longitude)),\n",
    "                      as.matrix(dat_A %>% select(a_id,latitude,longitude)))\n",
    "colnames(dat_D) <- c(\"s_id\",\"a_id\",\"dist_m\")\n",
    "dat_D <- as_tibble(dat_D) %>%\n",
    "  mutate(s_id = as.integer(s_id),\n",
    "         a_id = as.integer(a_id),\n",
    "         dist_m = as.integer(dist_m),\n",
    "         dist_km = dist_m / 1000,\n",
    "         dist_mi = dist_m*0.62137119223733/1000)\n",
    "saveRDS(dat_D,\"data/dat_D.rds\")"
   ]
  },
  {
   "cell_type": "markdown",
   "id": "aff6621f",
   "metadata": {
    "lines_to_next_cell": 0
   },
   "source": [
    "Similarly, calculate the distances between all grocery stores"
   ]
  },
  {
   "cell_type": "code",
   "execution_count": 6,
   "id": "f417441e",
   "metadata": {
    "lines_to_next_cell": 0,
    "name": "dist-SS"
   },
   "outputs": [],
   "source": [
    "dat_DS <- dist_between(as.matrix(dat_S %>% select(s_id,latitude,longitude)),\n",
    "                       as.matrix(dat_S %>% select(s_id,latitude,longitude)))\n",
    "colnames(dat_DS) <- c(\"s1_id\",\"s2_id\",\"dist_m\")\n",
    "dat_DS <- as_tibble(dat_DS) %>%\n",
    "  mutate(s1_id = as.integer(s1_id),\n",
    "         s2_id = as.integer(s2_id),\n",
    "         dist_m = as.integer(dist_m),\n",
    "         dist_km = dist_m / 1000,\n",
    "         dist_mi = dist_m*0.62137119223733/1000) %>%\n",
    "  filter(s1_id != s2_id)\n",
    "saveRDS(dat_DS,\"data/dat_DS.rds\")"
   ]
  },
  {
   "cell_type": "markdown",
   "id": "24d1c13a",
   "metadata": {
    "lines_to_next_cell": 0
   },
   "source": [
    "## Random points not near real grocery stores\n",
    "\n",
    "The neural network code looks for counterfactual treatment locations in the larger neighborhoods of pre-specified points.\n",
    "The first set of pre-specified points are the *real* treatment locations.\n",
    "However, to find counterfactual locations that are not close to real locations, we also draw (many) random locations.\n",
    "These random locations should be:\n",
    "\n",
    "1. near other businesses (because locations not near any businesses are implausible counterfactual locations anyway), \n",
    "2. not near real grocery stores (because these are covered by the first set of pre-specified points), and\n",
    "3. not too close to one another (because the neural network searches the neighborhood of each point, we don't need the points to be close together)\n",
    "\n",
    "To achieve 1 and 2, start with the locations of other businesses that are not very close (<0.2 miles) but also not very far (>2 miles) from their respective *nearest* grocery store."
   ]
  },
  {
   "cell_type": "code",
   "execution_count": 7,
   "id": "8778f57f",
   "metadata": {
    "lines_to_next_cell": 0,
    "name": "pick-isolated"
   },
   "outputs": [],
   "source": [
    "dat_S_isolated <- dat_D %>%\n",
    "  # find distance to nearest grocery store\n",
    "  group_by(a_id) %>% \n",
    "  summarize(dist_mi = min(dist_mi)) %>%\n",
    "  # keep in the relevant range\n",
    "  filter(between(dist_mi,0.2,2))"
   ]
  },
  {
   "cell_type": "markdown",
   "id": "e053d18a",
   "metadata": {
    "lines_to_next_cell": 0
   },
   "source": [
    "and move the points slightly around the business such that the center of an area does not point exactly at a different business"
   ]
  },
  {
   "cell_type": "code",
   "execution_count": 8,
   "id": "95f43a06",
   "metadata": {
    "lines_to_next_cell": 0,
    "name": "move-random"
   },
   "outputs": [],
   "source": [
    "dat_S_isolated_random <- dat_S_isolated %>% \n",
    "  inner_join(dat_A, by=\"a_id\") %>% \n",
    "  # randomly shift by approximately 0.025 - 0.05 miles to move away from business\n",
    "  # flip needed due to mean shift!\n",
    "  mutate(random_shock_lat = rnorm(n=n(),mean=0.0004,sd=0.0001),\n",
    "         random_shock_lon = rnorm(n=n(),mean=0.0004,sd=0.0001),\n",
    "         sign_flip_lat = (runif(n=n()) > 0.5)*2-1,\n",
    "         sign_flip_lon = (runif(n=n()) > 0.5)*2-1\n",
    "  ) %>% \n",
    "  mutate(latitude=latitude+random_shock_lat*sign_flip_lat,\n",
    "         longitude=longitude+random_shock_lon*sign_flip_lon) %>% \n",
    "  mutate(s_id = as.integer(1000 + row_number())) %>% \n",
    "  select(s_id, latitude, longitude)"
   ]
  },
  {
   "cell_type": "markdown",
   "id": "9eef95a1",
   "metadata": {
    "lines_to_next_cell": 0
   },
   "source": [
    "here, the random shocks are in degrees of latitude and longitude.\n",
    "When all observations are reasonably close to one another, this is fine because these random points are not used directly as counterfactual locations.\n",
    "When observations come from different regions that are far apart, the one degree of latitude / longitude may have signify different distances.\n",
    "In those cases, it may be better to, for instance, first project each point into 2D space.\n",
    "\n",
    "The random points here get `s_id` starting with 1,001.\n",
    "Because there are only `r nrow(dat_S)` real grocery store locations in the sample, this makes it easy to distinguish between real and random locations, and has no other meaning.\n",
    "\n",
    "To skip random points that are quite close to one another, and thereby do not help us explore different neighborhoods, we can check the distance between the random points.\n",
    "Whenever two random points are close (<100 meters) to one another, we drop one of the two.\n",
    "This again is not important conceptually, but may help computationally."
   ]
  },
  {
   "cell_type": "code",
   "execution_count": 9,
   "id": "96555493",
   "metadata": {
    "name": "skip-close"
   },
   "outputs": [],
   "source": [
    "tmp <- dist_between(as.matrix(dat_S_isolated_random),as.matrix(dat_S_isolated_random))\n",
    "colnames(tmp) <- c(\"s1_id\",\"s2_id\",\"dist_m\")\n",
    "tmp <- as_tibble(tmp) %>% \n",
    "  filter(s2_id < s1_id) %>% \n",
    "  filter(dist_m < 100) %>% \n",
    "  arrange(s2_id) %>% \n",
    "  .$s2_id\n",
    "dat_S_candidate <- dat_S_isolated_random %>% filter(!(s_id %in% tmp))"
   ]
  },
  {
   "cell_type": "markdown",
   "id": "3fa5f5d2",
   "metadata": {
    "lines_to_next_cell": 0
   },
   "source": [
    "Finally, save the remaining random points."
   ]
  },
  {
   "cell_type": "code",
   "execution_count": 10,
   "id": "7a996ce8",
   "metadata": {
    "name": "save-candidates"
   },
   "outputs": [],
   "source": [
    "saveRDS(dat_S_candidate,\"data/dat_S_candidate_random.rds\")"
   ]
  },
  {
   "cell_type": "markdown",
   "id": "a258db83",
   "metadata": {},
   "source": [
    "Note that these random locations by themselves are NOT usually good counterfactual locations.\n",
    "The hope is that the neural network will discover some good counterfactual locations near some of the random locations."
   ]
  },
  {
   "cell_type": "markdown",
   "id": "34dccb9f",
   "metadata": {
    "lines_to_next_cell": 0
   },
   "source": [
    "## Find 2D (grid) coordinates and save files for neural nets\n",
    "\n",
    "Project latitude and longitude into 2D space using the `sf` package, for real treatment locations, the random candidate locations, and the other businesses."
   ]
  },
  {
   "cell_type": "code",
   "execution_count": 11,
   "id": "122fcfa1",
   "metadata": {
    "lines_to_next_cell": 2,
    "name": "calc-2d-proj"
   },
   "outputs": [],
   "source": [
    "# use NAD83(2011) projection, EPSG:6419 for California 3 zone (~ Bay Area)\n",
    "mat_S_xy <- cbind(dat_S$s_id,\n",
    "                  sf_project(from=\"WGS84\", to=\"EPSG:6419\",\n",
    "                             pts=cbind(dat_S$longitude,dat_S$latitude)))\n",
    "colnames(mat_S_xy) <- c(\"s_id\",\"x\",\"y\")\n",
    "mat_S_candidate_xy <- cbind(dat_S_candidate$s_id,\n",
    "                            sf_project(from=\"WGS84\", to=\"EPSG:6419\",\n",
    "                                       pts=cbind(dat_S_candidate$longitude,\n",
    "                                                 dat_S_candidate$latitude)))\n",
    "colnames(mat_S_candidate_xy) <- c(\"s_id\",\"x\",\"y\")\n",
    "mat_A_xy <- cbind(dat_A$a_id,\n",
    "                  sf_project(from=\"WGS84\", to=\"EPSG:6419\",\n",
    "                             pts=cbind(dat_A$longitude,dat_A$latitude)))\n",
    "colnames(mat_A_xy) <- c(\"a_id\",\"x\",\"y\")\n",
    "# convert to tables instead of matrices for easier handling\n",
    "dat_S_xy <- as_tibble(mat_S_xy)\n",
    "dat_S_candidate_xy <- as_tibble(mat_S_candidate_xy)\n",
    "dat_A_xy <- as_tibble(mat_A_xy)"
   ]
  },
  {
   "cell_type": "markdown",
   "id": "4dac5fe6",
   "metadata": {
    "lines_to_next_cell": 0
   },
   "source": [
    "To simplify the setup of the neural network, for each real treatment or random location, save the locations of all nearby businesses as relative locations."
   ]
  },
  {
   "cell_type": "code",
   "execution_count": 12,
   "id": "a722d13a",
   "metadata": {
    "name": "define-nearby"
   },
   "outputs": [],
   "source": [
    "dist_keep_mi <-  2 * sqrt(2)  # * sqrt(2) fills a square with base 4 miles instead of a circle with diameter 4"
   ]
  },
  {
   "cell_type": "markdown",
   "id": "eb662eca",
   "metadata": {
    "lines_to_next_cell": 0
   },
   "source": [
    "First, for each real treatment location."
   ]
  },
  {
   "cell_type": "code",
   "execution_count": 13,
   "id": "f3187436",
   "metadata": {
    "lines_to_next_cell": 2,
    "name": "all-near-real"
   },
   "outputs": [],
   "source": [
    "dat_S_A <- rbind(\n",
    "  # other businesses\n",
    "  dat_D %>% \n",
    "    filter(dist_mi < dist_keep_mi) %>% \n",
    "    select(s_id,a_id) %>%\n",
    "    # grid position of the grocery store\n",
    "    inner_join(dat_S_xy, by=\"s_id\") %>% \n",
    "    rename(x_s = x, y_s = y) %>% \n",
    "    # grid position of other business\n",
    "    inner_join(dat_A_xy, by=\"a_id\") %>%\n",
    "    # relative positions\n",
    "    mutate(x = x-x_s, y = y-y_s) %>% \n",
    "    # industry of other business\n",
    "    inner_join(dat_A %>% select(a_id,naics_code), by=\"a_id\") %>% \n",
    "    select(s_id, a_id, x, y, naics_code),\n",
    "  # other treatment locations\n",
    "  dat_DS %>% \n",
    "    filter(dist_mi < dist_keep_mi) %>% \n",
    "    select(s1_id,s2_id) %>%\n",
    "    # grid position of the grocery store\n",
    "    inner_join(dat_S_xy, by=c(\"s1_id\"=\"s_id\")) %>% \n",
    "    rename(x_s = x, y_s = y) %>% \n",
    "    # grid position of other business\n",
    "    inner_join(dat_S_xy, by=c(\"s2_id\"=\"s_id\")) %>%\n",
    "    # relative positions\n",
    "    mutate(x = x-x_s, y = y-y_s) %>% \n",
    "    # industry of other business\n",
    "    inner_join(dat_S %>% select(s_id,naics_code), by=c(\"s2_id\"=\"s_id\")) %>% \n",
    "    mutate(s_id = s1_id, a_id = -s2_id) %>% \n",
    "    select(s_id, a_id, x, y, naics_code) %>%\n",
    "    arrange(s_id)\n",
    ") %>% \n",
    "  arrange(s_id) %>% \n",
    "  mutate(x = round(x,2),\n",
    "         y = round(y,2))"
   ]
  },
  {
   "cell_type": "markdown",
   "id": "971aa6e7",
   "metadata": {
    "lines_to_next_cell": 0
   },
   "source": [
    "Second, for the random points, we need the distances to other businesses and treatment locations."
   ]
  },
  {
   "cell_type": "code",
   "execution_count": 14,
   "id": "b6c4b11b",
   "metadata": {
    "name": "distances-to-random"
   },
   "outputs": [],
   "source": [
    "# distance to other businesses\n",
    "dat_D_candidate <- dist_between(as.matrix(dat_S_candidate),\n",
    "                                as.matrix(dat_A %>% select(a_id,latitude,longitude)))\n",
    "colnames(dat_D_candidate) <- c(\"s_id\",\"a_id\",\"dist_m\")\n",
    "dat_D_candidate <- as_tibble(dat_D_candidate) %>% \n",
    "  mutate(s_id = as.integer(s_id),\n",
    "         a_id = as.integer(a_id),\n",
    "         dist_mi = dist_m*0.62137119223733/1000)\n",
    "# distance to grocery stores\n",
    "dat_DS_candidate <- dist_between(as.matrix(dat_S_candidate),\n",
    "                                 as.matrix(dat_S %>% select(s_id,latitude,longitude)))\n",
    "colnames(dat_DS_candidate) <- c(\"s1_id\",\"s2_id\",\"dist_m\")\n",
    "dat_DS_candidate <- as_tibble(dat_DS_candidate) %>% \n",
    "  mutate(s_id = as.integer(s1_id),\n",
    "         a_id = as.integer(s2_id),\n",
    "         dist_mi = dist_m*0.62137119223733/1000)"
   ]
  },
  {
   "cell_type": "markdown",
   "id": "2e0c2b16",
   "metadata": {
    "lines_to_next_cell": 0
   },
   "source": [
    "Then we can gather all the relative distances for businesses near the random points in the same way as we did it for the real treatment locations."
   ]
  },
  {
   "cell_type": "code",
   "execution_count": 15,
   "id": "0b41094f",
   "metadata": {
    "lines_to_next_cell": 2,
    "name": "all-near-random"
   },
   "outputs": [],
   "source": [
    "dat_S_candidate_A <- rbind(\n",
    "  # other businesses\n",
    "  dat_D_candidate %>% \n",
    "    filter(dist_mi < dist_keep_mi) %>% \n",
    "    select(s_id,a_id) %>%\n",
    "    # grid position of the grocery store\n",
    "    inner_join(dat_S_candidate_xy, by=\"s_id\") %>% \n",
    "    rename(x_s = x, y_s = y) %>% \n",
    "    # grid position of other business\n",
    "    inner_join(dat_A_xy, by=\"a_id\") %>%\n",
    "    # relative positions\n",
    "    mutate(x = x-x_s, y = y-y_s) %>% \n",
    "    # industry of other business\n",
    "    inner_join(dat_A %>% select(a_id,naics_code), by=\"a_id\") %>% \n",
    "    select(s_id, a_id, x, y, naics_code),\n",
    "  # real treatment locations\n",
    "  dat_DS_candidate %>% \n",
    "    filter(dist_mi < dist_keep_mi) %>% \n",
    "    select(s1_id,s2_id) %>%\n",
    "    # grid position of the grocery store\n",
    "    inner_join(dat_S_candidate_xy, by=c(\"s1_id\"=\"s_id\")) %>% \n",
    "    rename(x_s = x, y_s = y) %>% \n",
    "    # grid position of other business\n",
    "    inner_join(dat_S_xy, by=c(\"s2_id\"=\"s_id\")) %>%\n",
    "    # relative positions\n",
    "    mutate(x = x-x_s, y = y-y_s) %>% \n",
    "    # industry of other business\n",
    "    inner_join(dat_S %>% select(s_id,naics_code), by=c(\"s2_id\"=\"s_id\")) %>% \n",
    "    mutate(s_id = s1_id, a_id = -s2_id) %>% \n",
    "    select(s_id, a_id, x, y, naics_code) %>%\n",
    "    arrange(s_id)\n",
    ") %>% \n",
    "  arrange(s_id) %>% \n",
    "  mutate(x = round(x,2),\n",
    "         y = round(y,2))"
   ]
  },
  {
   "cell_type": "markdown",
   "id": "27de00d9",
   "metadata": {
    "lines_to_next_cell": 0
   },
   "source": [
    "Finally, save the data as `.csv` files as input into the (Python) neural net."
   ]
  },
  {
   "cell_type": "code",
   "execution_count": 16,
   "id": "1e61de74",
   "metadata": {
    "name": "save-csv"
   },
   "outputs": [],
   "source": [
    "write.csv(x = dat_S_A %>% \n",
    "            filter(floor(naics_code/100) != 4451) %>% \n",
    "            select(s_id,a_id,x,y,naics_code),\n",
    "          file = \"neural-net/grid_S_I.csv\",\n",
    "          row.names=FALSE, quote=FALSE)\n",
    "write.csv(x = dat_S_A %>% \n",
    "            filter(floor(naics_code/100) == 4451) %>% \n",
    "            select(s_id,a_id,x,y),\n",
    "          file = \"neural-net/grid_S_S.csv\",\n",
    "          row.names=FALSE, quote=FALSE)\n",
    "write.csv(x = dat_S_candidate_A %>% \n",
    "            filter(floor(naics_code/100) != 4451) %>% \n",
    "            select(s_id,a_id,x,y,naics_code),\n",
    "          file = \"neural-net/grid_S_random_I.csv\",\n",
    "          row.names=FALSE, quote=FALSE)\n",
    "write.csv(x = dat_S_candidate_A %>% \n",
    "            filter(floor(naics_code/100) == 4451) %>% \n",
    "            select(s_id,a_id,x,y),\n",
    "          file = \"neural-net/grid_S_random_S.csv\",\n",
    "          row.names=FALSE, quote=FALSE)"
   ]
  }
 ],
 "metadata": {
  "jupytext": {
   "formats": "Rmd,ipynb"
  },
  "kernelspec": {
   "display_name": "R",
   "language": "R",
   "name": "ir"
  },
  "language_info": {
   "codemirror_mode": "r",
   "file_extension": ".r",
   "mimetype": "text/x-r-source",
   "name": "R",
   "pygments_lexer": "r",
   "version": "3.6.1"
  }
 },
 "nbformat": 4,
 "nbformat_minor": 5
}
