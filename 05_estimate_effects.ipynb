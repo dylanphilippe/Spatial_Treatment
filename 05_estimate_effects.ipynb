{
 "cells": [
  {
   "cell_type": "markdown",
   "id": "0e481172",
   "metadata": {},
   "source": [
    "# 05: Estimate Effects\n",
    "\n",
    "## Constants\n",
    "\n",
    "Define constants that are used to determine the width of bins (`d_bin_size`) and the maximum distance up to which effects are estimated (`d_bin_max`), as well as a distance after which treatment effects are assumed to be 0 for the purpose of calculating standard errors (`dist_no_effect_var`)."
   ]
  },
  {
   "cell_type": "code",
   "execution_count": 1,
   "id": "bef12f08",
   "metadata": {
    "name": "define-constants"
   },
   "outputs": [],
   "source": [
    "d_bin_size <- 0.025\n",
    "d_bin_max <- 0.25\n",
    "num_bins <- ceiling(d_bin_max/d_bin_size)\n",
    "dist_no_effect_var <- 0.10"
   ]
  },
  {
   "cell_type": "markdown",
   "id": "1e424691",
   "metadata": {},
   "source": [
    "## Required R packages\n",
    "\n",
    "* `dplyr` for data management\n",
    "* `tidyr` to replace na values in a column within a dplyr pipeline\n",
    "* `ggplot2` to plot the estimates by distance\n",
    "* `data.table` and `Rcpp` for (relatively) fast estimation of the variance of the estimator\n",
    "* `spatial_treat_estimator.R` contains functions that estimate treatment effects and standard errors under additive separability of treatment effects with a known maximum distance after which treatment has no effect"
   ]
  },
  {
   "cell_type": "code",
   "execution_count": 2,
   "id": "20690cac",
   "metadata": {
    "lines_to_next_cell": 2,
    "message": false,
    "name": "load-package-source-files",
    "results": "hold",
    "warning": false
   },
   "outputs": [
    {
     "name": "stderr",
     "output_type": "stream",
     "text": [
      "\n",
      "Attaching package: 'dplyr'\n",
      "\n",
      "\n",
      "The following objects are masked from 'package:stats':\n",
      "\n",
      "    filter, lag\n",
      "\n",
      "\n",
      "The following objects are masked from 'package:base':\n",
      "\n",
      "    intersect, setdiff, setequal, union\n",
      "\n",
      "\n",
      "\n",
      "Attaching package: 'data.table'\n",
      "\n",
      "\n",
      "The following objects are masked from 'package:dplyr':\n",
      "\n",
      "    between, first, last\n",
      "\n",
      "\n"
     ]
    }
   ],
   "source": [
    "library(dplyr)\n",
    "library(tidyr)\n",
    "library(ggplot2)\n",
    "library(data.table)\n",
    "library(Rcpp)\n",
    "source(\"spatial_treat_estimator.R\")"
   ]
  },
  {
   "cell_type": "markdown",
   "id": "eaae643a",
   "metadata": {},
   "source": [
    "## Load and prepare ata\n",
    "\n",
    "This script uses data computed by the previous scripts.\n",
    "The following code loads the relevant data files and selects the outcome units, outcome variable, and distance measure used to estimate effects."
   ]
  },
  {
   "cell_type": "code",
   "execution_count": 3,
   "id": "dca13ec8",
   "metadata": {
    "lines_to_next_cell": 2,
    "name": "load-data"
   },
   "outputs": [],
   "source": [
    "dat_A <- readRDS(\"data/dat_A.rds\")\n",
    "dat_S <- readRDS(\"data/dat_S.rds\")\n",
    "dat_D <- readRDS(\"data/dat_D.rds\")\n",
    "dat_cand_sel <- readRDS(\"data/dat_cand.rds\")\n",
    "dat_D_cand_sel <- readRDS(\"data/dat_D_cand.rds\")\n",
    "dat_S_treat <- readRDS(\"data/dat_reg_out_sel.rds\")\n",
    "\n",
    "# outcome units\n",
    "dat_Y <- dat_A %>%\n",
    "  # filter to get \"Restaurants and Other Eating Places\"\n",
    "  filter(floor(naics_code/100) == 7225) %>% \n",
    "  mutate(Y = visits) %>% \n",
    "  select(a_id,Y)\n",
    "# distance between outcome units and candidate locations\n",
    "dat_D_IS <- rbind(dat_D,dat_D_cand_sel) %>% \n",
    "  # only need businesses that are outcome units\n",
    "  filter(a_id %in% dat_Y$a_id) %>% \n",
    "  # and very large distances won't ever be considered\n",
    "  filter(dist_mi < max(2*d_bin_max,dist_no_effect_var)) %>%\n",
    "  # use distances in miles\n",
    "  rename(d = dist_mi) %>% \n",
    "  select(a_id,s_id,d)"
   ]
  },
  {
   "cell_type": "markdown",
   "id": "bc5799af",
   "metadata": {},
   "source": [
    "## Estimate and plot effects\n",
    "\n",
    "Finally, we are ready to estimate effects.\n",
    "The function `spatialTreat_loop` conveniently creates the distance bins of interest, loops over them, and returns a table that that includes one row for each estimate."
   ]
  },
  {
   "cell_type": "code",
   "execution_count": 4,
   "id": "c483e3fe",
   "metadata": {
    "name": "estimate-effects"
   },
   "outputs": [
    {
     "data": {
      "text/html": [
       "<table class=\"dataframe\">\n",
       "<caption>A data.frame: 10 × 13</caption>\n",
       "<thead>\n",
       "\t<tr><th scope=col>dist_bin</th><th scope=col>d</th><th scope=col>tau_hat</th><th scope=col>se</th><th scope=col>muc</th><th scope=col>mut</th><th scope=col>nbart</th><th scope=col>nbarc</th><th scope=col>nbar</th><th scope=col>V</th><th scope=col>Vt</th><th scope=col>Vc</th><th scope=col>Vx</th></tr>\n",
       "\t<tr><th scope=col>&lt;dbl&gt;</th><th scope=col>&lt;dbl&gt;</th><th scope=col>&lt;dbl&gt;</th><th scope=col>&lt;dbl&gt;</th><th scope=col>&lt;dbl&gt;</th><th scope=col>&lt;dbl&gt;</th><th scope=col>&lt;dbl&gt;</th><th scope=col>&lt;dbl&gt;</th><th scope=col>&lt;dbl&gt;</th><th scope=col>&lt;dbl&gt;</th><th scope=col>&lt;dbl&gt;</th><th scope=col>&lt;dbl&gt;</th><th scope=col>&lt;dbl&gt;</th></tr>\n",
       "</thead>\n",
       "<tbody>\n",
       "\t<tr><td>0</td><td>0.0125</td><td>6.0135756</td><td>7.188422</td><td>10.169351</td><td>16.182927</td><td>0.1704782</td><td>0.1738125</td><td>0.1704782</td><td>0.107429122</td><td>23.728551</td><td>26.999977</td><td>0.9448790</td></tr>\n",
       "\t<tr><td>1</td><td>0.0375</td><td>5.2098092</td><td>5.359669</td><td> 8.956858</td><td>14.166667</td><td>0.3492723</td><td>0.3666097</td><td>0.3492723</td><td>0.059721530</td><td>12.038059</td><td>16.485295</td><td>0.2027017</td></tr>\n",
       "\t<tr><td>2</td><td>0.0625</td><td>4.5655168</td><td>4.795452</td><td> 9.706857</td><td>14.272374</td><td>0.5343035</td><td>0.5559362</td><td>0.5343035</td><td>0.047809482</td><td>12.044464</td><td>10.454701</td><td>0.4971958</td></tr>\n",
       "\t<tr><td>3</td><td>0.0875</td><td>3.0524932</td><td>5.384757</td><td>10.424700</td><td>13.477193</td><td>0.5925156</td><td>0.5315356</td><td>0.5925156</td><td>0.060281935</td><td>14.984726</td><td>13.547584</td><td>0.4633005</td></tr>\n",
       "\t<tr><td>4</td><td>0.1125</td><td>2.3569852</td><td>2.976654</td><td> 9.015837</td><td>11.372822</td><td>0.5966736</td><td>0.5724730</td><td>0.5966736</td><td>0.018420929</td><td> 2.958298</td><td> 5.216263</td><td>0.6859048</td></tr>\n",
       "\t<tr><td>5</td><td>0.1375</td><td>1.7397471</td><td>3.386333</td><td> 9.332667</td><td>11.072414</td><td>0.6029106</td><td>0.5904554</td><td>0.6029106</td><td>0.023840436</td><td> 4.902510</td><td> 4.501963</td><td>2.0627770</td></tr>\n",
       "\t<tr><td>6</td><td>0.1625</td><td>3.0794547</td><td>3.071822</td><td> 8.545545</td><td>11.625000</td><td>0.5488565</td><td>0.6040286</td><td>0.5488565</td><td>0.019617657</td><td> 3.859190</td><td> 4.216366</td><td>1.3605367</td></tr>\n",
       "\t<tr><td>7</td><td>0.1875</td><td>2.2750877</td><td>2.776754</td><td> 7.948317</td><td>10.223404</td><td>0.5862786</td><td>0.6123011</td><td>0.5862786</td><td>0.016029864</td><td> 3.964671</td><td> 2.624986</td><td>1.1207072</td></tr>\n",
       "\t<tr><td>8</td><td>0.2125</td><td>0.5066464</td><td>2.063034</td><td> 9.458605</td><td> 9.965251</td><td>0.5384615</td><td>0.4969859</td><td>0.5384615</td><td>0.008848458</td><td> 1.894412</td><td> 1.828373</td><td>0.5333227</td></tr>\n",
       "\t<tr><td>9</td><td>0.2375</td><td>1.6383935</td><td>2.537225</td><td> 8.624155</td><td>10.262548</td><td>0.5384615</td><td>0.5747149</td><td>0.5384615</td><td>0.013383594</td><td> 3.048711</td><td> 2.562244</td><td>0.8265530</td></tr>\n",
       "</tbody>\n",
       "</table>\n"
      ],
      "text/latex": [
       "A data.frame: 10 × 13\n",
       "\\begin{tabular}{lllllllllllll}\n",
       " dist\\_bin & d & tau\\_hat & se & muc & mut & nbart & nbarc & nbar & V & Vt & Vc & Vx\\\\\n",
       " <dbl> & <dbl> & <dbl> & <dbl> & <dbl> & <dbl> & <dbl> & <dbl> & <dbl> & <dbl> & <dbl> & <dbl> & <dbl>\\\\\n",
       "\\hline\n",
       "\t 0 & 0.0125 & 6.0135756 & 7.188422 & 10.169351 & 16.182927 & 0.1704782 & 0.1738125 & 0.1704782 & 0.107429122 & 23.728551 & 26.999977 & 0.9448790\\\\\n",
       "\t 1 & 0.0375 & 5.2098092 & 5.359669 &  8.956858 & 14.166667 & 0.3492723 & 0.3666097 & 0.3492723 & 0.059721530 & 12.038059 & 16.485295 & 0.2027017\\\\\n",
       "\t 2 & 0.0625 & 4.5655168 & 4.795452 &  9.706857 & 14.272374 & 0.5343035 & 0.5559362 & 0.5343035 & 0.047809482 & 12.044464 & 10.454701 & 0.4971958\\\\\n",
       "\t 3 & 0.0875 & 3.0524932 & 5.384757 & 10.424700 & 13.477193 & 0.5925156 & 0.5315356 & 0.5925156 & 0.060281935 & 14.984726 & 13.547584 & 0.4633005\\\\\n",
       "\t 4 & 0.1125 & 2.3569852 & 2.976654 &  9.015837 & 11.372822 & 0.5966736 & 0.5724730 & 0.5966736 & 0.018420929 &  2.958298 &  5.216263 & 0.6859048\\\\\n",
       "\t 5 & 0.1375 & 1.7397471 & 3.386333 &  9.332667 & 11.072414 & 0.6029106 & 0.5904554 & 0.6029106 & 0.023840436 &  4.902510 &  4.501963 & 2.0627770\\\\\n",
       "\t 6 & 0.1625 & 3.0794547 & 3.071822 &  8.545545 & 11.625000 & 0.5488565 & 0.6040286 & 0.5488565 & 0.019617657 &  3.859190 &  4.216366 & 1.3605367\\\\\n",
       "\t 7 & 0.1875 & 2.2750877 & 2.776754 &  7.948317 & 10.223404 & 0.5862786 & 0.6123011 & 0.5862786 & 0.016029864 &  3.964671 &  2.624986 & 1.1207072\\\\\n",
       "\t 8 & 0.2125 & 0.5066464 & 2.063034 &  9.458605 &  9.965251 & 0.5384615 & 0.4969859 & 0.5384615 & 0.008848458 &  1.894412 &  1.828373 & 0.5333227\\\\\n",
       "\t 9 & 0.2375 & 1.6383935 & 2.537225 &  8.624155 & 10.262548 & 0.5384615 & 0.5747149 & 0.5384615 & 0.013383594 &  3.048711 &  2.562244 & 0.8265530\\\\\n",
       "\\end{tabular}\n"
      ],
      "text/markdown": [
       "\n",
       "A data.frame: 10 × 13\n",
       "\n",
       "| dist_bin &lt;dbl&gt; | d &lt;dbl&gt; | tau_hat &lt;dbl&gt; | se &lt;dbl&gt; | muc &lt;dbl&gt; | mut &lt;dbl&gt; | nbart &lt;dbl&gt; | nbarc &lt;dbl&gt; | nbar &lt;dbl&gt; | V &lt;dbl&gt; | Vt &lt;dbl&gt; | Vc &lt;dbl&gt; | Vx &lt;dbl&gt; |\n",
       "|---|---|---|---|---|---|---|---|---|---|---|---|---|\n",
       "| 0 | 0.0125 | 6.0135756 | 7.188422 | 10.169351 | 16.182927 | 0.1704782 | 0.1738125 | 0.1704782 | 0.107429122 | 23.728551 | 26.999977 | 0.9448790 |\n",
       "| 1 | 0.0375 | 5.2098092 | 5.359669 |  8.956858 | 14.166667 | 0.3492723 | 0.3666097 | 0.3492723 | 0.059721530 | 12.038059 | 16.485295 | 0.2027017 |\n",
       "| 2 | 0.0625 | 4.5655168 | 4.795452 |  9.706857 | 14.272374 | 0.5343035 | 0.5559362 | 0.5343035 | 0.047809482 | 12.044464 | 10.454701 | 0.4971958 |\n",
       "| 3 | 0.0875 | 3.0524932 | 5.384757 | 10.424700 | 13.477193 | 0.5925156 | 0.5315356 | 0.5925156 | 0.060281935 | 14.984726 | 13.547584 | 0.4633005 |\n",
       "| 4 | 0.1125 | 2.3569852 | 2.976654 |  9.015837 | 11.372822 | 0.5966736 | 0.5724730 | 0.5966736 | 0.018420929 |  2.958298 |  5.216263 | 0.6859048 |\n",
       "| 5 | 0.1375 | 1.7397471 | 3.386333 |  9.332667 | 11.072414 | 0.6029106 | 0.5904554 | 0.6029106 | 0.023840436 |  4.902510 |  4.501963 | 2.0627770 |\n",
       "| 6 | 0.1625 | 3.0794547 | 3.071822 |  8.545545 | 11.625000 | 0.5488565 | 0.6040286 | 0.5488565 | 0.019617657 |  3.859190 |  4.216366 | 1.3605367 |\n",
       "| 7 | 0.1875 | 2.2750877 | 2.776754 |  7.948317 | 10.223404 | 0.5862786 | 0.6123011 | 0.5862786 | 0.016029864 |  3.964671 |  2.624986 | 1.1207072 |\n",
       "| 8 | 0.2125 | 0.5066464 | 2.063034 |  9.458605 |  9.965251 | 0.5384615 | 0.4969859 | 0.5384615 | 0.008848458 |  1.894412 |  1.828373 | 0.5333227 |\n",
       "| 9 | 0.2375 | 1.6383935 | 2.537225 |  8.624155 | 10.262548 | 0.5384615 | 0.5747149 | 0.5384615 | 0.013383594 |  3.048711 |  2.562244 | 0.8265530 |\n",
       "\n"
      ],
      "text/plain": [
       "   dist_bin d      tau_hat   se       muc       mut       nbart     nbarc    \n",
       "1  0        0.0125 6.0135756 7.188422 10.169351 16.182927 0.1704782 0.1738125\n",
       "2  1        0.0375 5.2098092 5.359669  8.956858 14.166667 0.3492723 0.3666097\n",
       "3  2        0.0625 4.5655168 4.795452  9.706857 14.272374 0.5343035 0.5559362\n",
       "4  3        0.0875 3.0524932 5.384757 10.424700 13.477193 0.5925156 0.5315356\n",
       "5  4        0.1125 2.3569852 2.976654  9.015837 11.372822 0.5966736 0.5724730\n",
       "6  5        0.1375 1.7397471 3.386333  9.332667 11.072414 0.6029106 0.5904554\n",
       "7  6        0.1625 3.0794547 3.071822  8.545545 11.625000 0.5488565 0.6040286\n",
       "8  7        0.1875 2.2750877 2.776754  7.948317 10.223404 0.5862786 0.6123011\n",
       "9  8        0.2125 0.5066464 2.063034  9.458605  9.965251 0.5384615 0.4969859\n",
       "10 9        0.2375 1.6383935 2.537225  8.624155 10.262548 0.5384615 0.5747149\n",
       "   nbar      V           Vt        Vc        Vx       \n",
       "1  0.1704782 0.107429122 23.728551 26.999977 0.9448790\n",
       "2  0.3492723 0.059721530 12.038059 16.485295 0.2027017\n",
       "3  0.5343035 0.047809482 12.044464 10.454701 0.4971958\n",
       "4  0.5925156 0.060281935 14.984726 13.547584 0.4633005\n",
       "5  0.5966736 0.018420929  2.958298  5.216263 0.6859048\n",
       "6  0.6029106 0.023840436  4.902510  4.501963 2.0627770\n",
       "7  0.5488565 0.019617657  3.859190  4.216366 1.3605367\n",
       "8  0.5862786 0.016029864  3.964671  2.624986 1.1207072\n",
       "9  0.5384615 0.008848458  1.894412  1.828373 0.5333227\n",
       "10 0.5384615 0.013383594  3.048711  2.562244 0.8265530"
      ]
     },
     "metadata": {},
     "output_type": "display_data"
    }
   ],
   "source": [
    "dat_out <- sptreat_loop(dat_D=dat_D_IS %>% rename(i=a_id,s=s_id),\n",
    "             dat_S = dat_S_treat %>% rename(s=s_id),\n",
    "             dat_Y = dat_Y %>% rename(i=a_id),\n",
    "             dd = seq(d_bin_size/2,by=d_bin_size,length.out=num_bins),\n",
    "             hh = d_bin_size,\n",
    "             maxdeffect = dist_no_effect_var)\n",
    "dat_out"
   ]
  },
  {
   "cell_type": "markdown",
   "id": "554386d4",
   "metadata": {},
   "source": [
    "We can plot the estimates by distance bins, with error bars indicating the estimate plus or minus 1.96 times the standard error."
   ]
  },
  {
   "cell_type": "code",
   "execution_count": 5,
   "id": "07bccb20",
   "metadata": {
    "name": "plot-effects"
   },
   "outputs": [
    {
     "data": {
      "image/png": "[encoded data removed]",
      "text/plain": [
       "plot without title"
      ]
     },
     "metadata": {
      "image/png": {
       "height": 420,
       "width": 420
      }
     },
     "output_type": "display_data"
    }
   ],
   "source": [
    "dat_out %>% \n",
    "  ggplot(aes(x=d, y=tau_hat)) +\n",
    "  geom_hline(yintercept = 0, linewidth = 1, color = \"#666666\") +\n",
    "  geom_errorbar(aes(ymin=tau_hat-1.96*se,ymax=tau_hat+1.96*se), color=\"gray\") +\n",
    "  geom_point(size = 4, color=\"#1F78B4\") +\n",
    "  geom_line(linewidth = 1.5, color=\"#1F78B4\", linetype = \"dashed\") +\n",
    "  ylab(\"visits\") +\n",
    "  xlab(\"Distance from Grocery Store\") +\n",
    "  coord_cartesian(xlim = c(0,d_bin_max)) +\n",
    "  theme_minimal()"
   ]
  },
  {
   "cell_type": "markdown",
   "id": "3b249e95",
   "metadata": {},
   "source": [
    "The estimated effects do not appear statistically significant.\n",
    "We should *NOT* interpret the fact that all the initial estimates are above 0 as evidence that there nevertheless are positive treatment effects.\n",
    "For many (outcome) variables, there is positive correlation across space.\n",
    "In other words, if we have treatment in a location where, randomly, outcomes at a short distance `d=0.05` are slightly above average, then likely also outcomes at a similar distance `d=0.075` from the same location are slightly above average.\n",
    "These units will be in the treated group at either distance, such that estimates across distances are likely positively correlated."
   ]
  },
  {
   "cell_type": "markdown",
   "id": "574dacbd",
   "metadata": {
    "lines_to_next_cell": 0
   },
   "source": [
    "We could alternatively have looked at the inverse hyperbolic sine (`asinh`) of visits if we suspect that the treatment effect is likely to be a fixed percentage of the baseline outcome.\n",
    "The inverse hyperbolic sine is similar to the log transformation, but is defined at 0."
   ]
  },
  {
   "cell_type": "code",
   "execution_count": 6,
   "id": "2fefcfe2",
   "metadata": {
    "name": "estimate-plot-asinh"
   },
   "outputs": [
    {
     "data": {
      "image/png": "[encoded data removed]",
      "text/plain": [
       "plot without title"
      ]
     },
     "metadata": {
      "image/png": {
       "height": 420,
       "width": 420
      }
     },
     "output_type": "display_data"
    }
   ],
   "source": [
    "dat_out <- sptreat_loop(dat_D=dat_D_IS %>% rename(i=a_id,s=s_id),\n",
    "             dat_S = dat_S_treat %>% rename(s=s_id),\n",
    "             dat_Y = dat_Y %>% rename(i=a_id) %>% mutate(Y=asinh(Y)),\n",
    "             dd = seq(d_bin_size/2,by=d_bin_size,length.out=num_bins),\n",
    "             hh = d_bin_size,\n",
    "             maxdeffect = dist_no_effect_var)\n",
    "\n",
    "dat_out %>% \n",
    "  ggplot(aes(x=d, y=tau_hat)) +\n",
    "  geom_hline(yintercept = 0, linewidth = 1, color = \"#666666\") +\n",
    "  geom_errorbar(aes(ymin=tau_hat-1.96*se,ymax=tau_hat+1.96*se), color=\"gray\") +\n",
    "  geom_point(size = 4, color=\"#1F78B4\") +\n",
    "  geom_line(linewidth = 1.5, color=\"#1F78B4\", linetype = \"dashed\") +\n",
    "  ylab(\"asinh(visits)\") +\n",
    "  xlab(\"Distance from Grocery Store\") +\n",
    "  coord_cartesian(xlim = c(0,d_bin_max)) +\n",
    "  theme_minimal()"
   ]
  },
  {
   "cell_type": "markdown",
   "id": "3bd899ed",
   "metadata": {},
   "source": [
    "The estimates again do not suggest that the treatment had an effect on the outcome at any distance.\n",
    "\n",
    "Note that only the standard errors are based on the assumption that the treatment has no effect after a distance of `dist_no_effect_var`=`r dist_no_effect_var`.\n",
    "We can see in either figure that the point estimates of average marginal effects are substantively close to 0 after that distance, such that this assumption at least is not immediately refuted by the data."
   ]
  },
  {
   "cell_type": "markdown",
   "id": "79029376-103f-42a7-97a5-dae981b6757c",
   "metadata": {},
   "source": []
  }
 ],
 "metadata": {
  "jupytext": {
   "formats": "ipynb,Rmd"
  },
  "kernelspec": {
   "display_name": "R",
   "language": "R",
   "name": "ir"
  },
  "language_info": {
   "codemirror_mode": "r",
   "file_extension": ".r",
   "mimetype": "text/x-r-source",
   "name": "R",
   "pygments_lexer": "r",
   "version": "4.2.2"
  }
 },
 "nbformat": 4,
 "nbformat_minor": 5
}
